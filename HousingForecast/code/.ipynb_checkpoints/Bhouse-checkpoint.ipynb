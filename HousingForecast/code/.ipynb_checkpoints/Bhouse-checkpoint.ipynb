{
 "cells": [
  {
   "cell_type": "code",
   "execution_count": 1,
   "metadata": {},
   "outputs": [],
   "source": [
    "import pandas as pd\n",
    "import numpy as np\n",
    "\n",
    "train = pd.read_csv('../data/train.csv')  # 导入训练集\n",
    "test = pd.read_csv('../data/test.csv')  #导入测试集\n"
   ]
  },
  {
   "cell_type": "code",
   "execution_count": 2,
   "metadata": {},
   "outputs": [
    {
     "name": "stdout",
     "output_type": "stream",
     "text": [
      "['Id', 'MSSubClass', 'LotFrontage', 'LotArea', 'OverallQual', 'OverallCond', 'YearBuilt', 'YearRemodAdd', 'MasVnrArea', 'BsmtFinSF1', 'BsmtFinSF2', 'BsmtUnfSF', 'TotalBsmtSF', '1stFlrSF', '2ndFlrSF', 'LowQualFinSF', 'GrLivArea', 'BsmtFullBath', 'BsmtHalfBath', 'FullBath', 'HalfBath', 'BedroomAbvGr', 'KitchenAbvGr', 'TotRmsAbvGrd', 'Fireplaces', 'GarageYrBlt', 'GarageCars', 'GarageArea', 'WoodDeckSF', 'OpenPorchSF', 'EnclosedPorch', '3SsnPorch', 'ScreenPorch', 'PoolArea', 'MiscVal', 'MoSold', 'YrSold']\n",
      "['MSZoning', 'Street', 'Alley', 'LotShape', 'LandContour', 'Utilities', 'LotConfig', 'LandSlope', 'Neighborhood', 'Condition1', 'Condition2', 'BldgType', 'HouseStyle', 'RoofStyle', 'RoofMatl', 'Exterior1st', 'Exterior2nd', 'MasVnrType', 'ExterQual', 'ExterCond', 'Foundation', 'BsmtQual', 'BsmtCond', 'BsmtExposure', 'BsmtFinType1', 'BsmtFinType2', 'Heating', 'HeatingQC', 'CentralAir', 'Electrical', 'KitchenQual', 'Functional', 'FireplaceQu', 'GarageType', 'GarageFinish', 'GarageQual', 'GarageCond', 'PavedDrive', 'PoolQC', 'Fence', 'MiscFeature', 'SaleType', 'SaleCondition']\n"
     ]
    }
   ],
   "source": [
    "#数值型和类别型分开处理\n",
    "num_columns = []\n",
    "cate_columns = []\n",
    "for column in test.columns:\n",
    "    if test.dtypes[column] != np.dtype('object'):\n",
    "        num_columns.append(column)\n",
    "    else:\n",
    "        cate_columns.append(column)\n",
    "print(num_columns)\n",
    "print(cate_columns)\n",
    "\n",
    "label = train.pop('SalePrice')\n",
    "\n",
    "#缺失值填充\n",
    "# 数值型用中值填充\n",
    "for column in num_columns:\n",
    "    train[column] = train[column].fillna(train[column].median())\n",
    "    test[column] = test[column].fillna(test[column].median())\n",
    "\n",
    "# # 类别型用最多的填充 \n",
    "# for column in cate_columns:\n",
    "#     train[column] = train[column].fillna(train[column].mode())\n",
    "#     test[column] = test[column].fillna(test[column].mode())\n",
    "    \n",
    "# 类别型填充'NaN'\n",
    "for column in cate_columns:\n",
    "    train[column] = train[column].fillna('NaN')\n",
    "    test[column] = test[column].fillna('NaN')\n",
    "    \n",
    "#类别型哑变量处理 将不能够定量处理的变量量化\n",
    "\n",
    "data = pd.concat([train,test],axis=0) #训练集要和测试集放一起\n",
    "for column in cate_columns:\n",
    "    \n",
    "    t = pd.get_dummies(data[column],prefix=column)\n",
    "    train = pd.concat([train,t[:len(train)]],axis=1)\n",
    "    train.drop(column,axis=1,inplace=True)\n",
    "    \n",
    "    test = pd.concat([test,t[len(train):]],axis=1)\n",
    "    test.drop(column,axis=1,inplace=True)"
   ]
  },
  {
   "cell_type": "code",
   "execution_count": 3,
   "metadata": {},
   "outputs": [],
   "source": [
    "#回归\n",
    "from sklearn.linear_model import Lasso,LinearRegression,Ridge,ElasticNet,TheilSenRegressor,HuberRegressor,RANSACRegressor\n",
    "from sklearn.svm import SVR\n",
    "from sklearn.tree import DecisionTreeRegressor,ExtraTreeRegressor\n",
    "from sklearn.ensemble import AdaBoostRegressor,ExtraTreesRegressor,GradientBoostingRegressor,RandomForestRegressor\n",
    "from xgboost import XGBRegressor\n",
    "from sklearn.model_selection import train_test_split\n",
    "from sklearn.metrics import mean_squared_error\n",
    "import itertools\n",
    "\n",
    "X_train, X_test, y_train, y_test = train_test_split(train, label, test_size=0.33, random_state=42)\n",
    "\n",
    "regs = [\n",
    "    ['Lasso',Lasso()],\n",
    "    ['LinearRegression',LinearRegression()],\n",
    "    ['Ridge',Ridge()],\n",
    "    ['ElasticNet',ElasticNet()],\n",
    "    ['TheilSenRegressor',TheilSenRegressor()],\n",
    "    ['RANSACRegressor',RANSACRegressor()],\n",
    "    ['HuberRegressor',HuberRegressor()],\n",
    "    ['SVR',SVR(kernel='linear')],\n",
    "    ['DecisionTreeRegressor',DecisionTreeRegressor()],\n",
    "    ['ExtraTreeRegressor',ExtraTreeRegressor()],\n",
    "    ['AdaBoostRegressor',AdaBoostRegressor(n_estimators=150)],\n",
    "    ['ExtraTreesRegressor',ExtraTreesRegressor(n_estimators=150)],\n",
    "    ['GradientBoostingRegressor',GradientBoostingRegressor(n_estimators=150)],\n",
    "    ['RandomForestRegressor',RandomForestRegressor(n_estimators=150)],\n",
    "    ['XGBRegressor',XGBRegressor(n_estimators=150)],\n",
    "]"
   ]
  },
  {
   "cell_type": "code",
   "execution_count": null,
   "metadata": {},
   "outputs": [],
   "source": [
    "preds = []\n",
    "for reg_name,reg in regs:\n",
    "    print(reg_name)\n",
    "    reg.fit(X_train,y_train)\n",
    "    y_pred = reg.predict(X_test)\n",
    "    if np.sum(y_pred<0) > 0:\n",
    "        print('y_pred have',np.sum(y_pred<0),'negative values, we fill it with np.median(y_pred)')\n",
    "        y_pred[y_pred<0] = np.median(y_pred)\n",
    "    score = np.sqrt(mean_squared_error(np.log(y_test),np.log(y_pred)))\n",
    "    preds.append([reg_name,y_pred])\n",
    "    \n",
    "\n",
    "final_results = []\n",
    "for comb_length in range(1,len(regs)+1):\n",
    "    print('Model Amount :',comb_length)\n",
    "    results = []\n",
    "    for comb in itertools.combinations(preds,comb_length):\n",
    "        pred_sum = 0\n",
    "        model_name = []\n",
    "        for reg_name,pred in comb:\n",
    "            pred_sum += pred\n",
    "            model_name.append(reg_name)\n",
    "        pred_sum /= comb_length\n",
    "        model_name = '+'.join(model_name)\n",
    "        score = np.sqrt(mean_squared_error(np.log(y_test),np.log(pred_sum)))\n",
    "        results.append([model_name,score])\n",
    "    results = sorted(results,key=lambda x:x[1])\n",
    "    for model_name,score in results:\n",
    "        print(model_name,score)\n",
    "    print()\n",
    "    final_results.append(results[0])"
   ]
  },
  {
   "cell_type": "code",
   "execution_count": null,
   "metadata": {},
   "outputs": [],
   "source": [
    "final_results = sorted(final_results,key=lambda x:x[1])\n",
    "for model_name,score in final_results:\n",
    "    print(model_name,score)"
   ]
  },
  {
   "cell_type": "code",
   "execution_count": null,
   "metadata": {},
   "outputs": [],
   "source": [
    "#最终输出\n",
    "[b for b in zip(itertools.count(),[a[0] for a in regs])]\n",
    "\n",
    "pred = np.mean(list(map(lambda x:regs[x][1].predict(test),[0,12,14])),axis=0)\n",
    "\n",
    "sub = pd.DataFrame({'Id':test['Id'],'SalePrice':pred})\n",
    "sub.to_csv('./submission_Universe_fillNaN.csv',index=None)"
   ]
  }
 ],
 "metadata": {
  "kernelspec": {
   "display_name": "Python 3",
   "language": "python",
   "name": "python3"
  },
  "language_info": {
   "codemirror_mode": {
    "name": "ipython",
    "version": 3
   },
   "file_extension": ".py",
   "mimetype": "text/x-python",
   "name": "python",
   "nbconvert_exporter": "python",
   "pygments_lexer": "ipython3",
   "version": "3.7.0"
  }
 },
 "nbformat": 4,
 "nbformat_minor": 2
}
